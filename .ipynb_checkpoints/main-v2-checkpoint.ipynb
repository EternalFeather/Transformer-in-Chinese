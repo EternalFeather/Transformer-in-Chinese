{
 "cells": [
  {
   "cell_type": "code",
   "execution_count": 1,
   "metadata": {},
   "outputs": [],
   "source": [
    "import os\n",
    "from params import Params as pm\n",
    "from tqdm import tqdm\n",
    "import numpy as np\n",
    "import time\n",
    "import re\n",
    "from string import punctuation as p\n",
    "import tensorflow as tf\n",
    "tf_ver = tf.__version__\n",
    "\n",
    "p += '！？｡＂＃＄％＆＇（）＊＋，－／：；＜＝＞＠［＼］＾＿｀｛｜｝～｟｠｢｣､、〃《》「」『』【】〔〕〖〗〘〙〚〛' \\\n",
    "\t '〜〝〞〟〰�〾〿–—‘・’‛“”„‟…‧﹏.□'"
   ]
  },
  {
   "cell_type": "code",
   "execution_count": 2,
   "metadata": {},
   "outputs": [
    {
     "data": {
      "text/plain": [
       "'2.0.0-alpha0'"
      ]
     },
     "execution_count": 2,
     "metadata": {},
     "output_type": "execute_result"
    }
   ],
   "source": [
    "tf_ver"
   ]
  },
  {
   "cell_type": "markdown",
   "metadata": {},
   "source": [
    "---"
   ]
  },
  {
   "cell_type": "markdown",
   "metadata": {},
   "source": [
    "# Data Preprocessing"
   ]
  },
  {
   "cell_type": "code",
   "execution_count": null,
   "metadata": {},
   "outputs": [],
   "source": [
    "def cleaner(text, stopwords=None, specialwords=None, remove_alphas=False, remove_numbers=False,\n",
    "\t\t\tremove_urls=False, remove_punctuation=False, remove_email=False, remove_ip_address=False,\n",
    "\t\t\tkeep_chinese_only=False):\n",
    "\talphas = re.compile(r\"[A-Za-z]+\", re.IGNORECASE)\n",
    "\tnumbers = re.compile(r\"\\d+\", re.IGNORECASE)\n",
    "\temail = re.compile(r\"[A-Za-z0-9\\u4e00-\\u9fa5]+@[a-zA-Z0-9_-]+(\\.[a-zA-Z0-9_-]+)+$\", re.IGNORECASE)\n",
    "\turl_1 = re.compile(r\"((https?|ftp|file):\\/\\/)?(www\\.)?[-a-zA-Z0-9@:%._\\+~#=]{2,256}\\.[a-z]{2,6}\\b([-a-zA-Z0-9@:%_\\+.~#?&//=]*)\", re.IGNORECASE)\n",
    "\turl_2 = re.compile(r\"[-a-zA-Z0-9@:%._\\+~#=]{2,256}\\.[a-z]{2,6}\\b([-a-zA-Z0-9@:%_\\+.~#?&//=]*)\", re.IGNORECASE)\n",
    "\tips = re.compile(r\"(25[0-5]|2[0-4][0-9]|[01]?[0-9][0-9]?)(\\.(25[0-5]|2[0-4][0-9]|[01]?[0-9][0-9]?)){3}(:)?[0-9]{1,8}\", re.IGNORECASE)\n",
    "\n",
    "\tchinese_pattern = re.compile(u'[\\u4e00-\\u9fa5]+')\n",
    "\tstop_p = p + \"！？｡。＂＃＄％＆＇（）＊＋，－／：；＜＝＞＠［＼］＾＿｀｛｜｝～｟｠｢｣､、〃》「」『』【】〔〕〖〗〘〙〚〛〜〝〞〟〰�〾〿–—‘・’‛“”„‟…‧﹏.\"\n",
    "\tnum_maps = {'{}'.format(i): '{}'.format(j) for i, j in zip(range(10), ['零', '壹', '贰', '叁', '肆', '伍', '陆', '柒', '捌', '玖'])}\n",
    "\n",
    "\ttext = re.sub(r'\\u0020+', ' ', text)\n",
    "\ttext = re.sub(r'\\xa0+', ' ', text)\n",
    "\n",
    "\tif keep_chinese_only:\n",
    "\t\ttext = \" \".join(chinese_pattern.findall(text))\n",
    "\telse:\n",
    "\t\ttext = re.sub(r\"what's\", \"what is\", text)\n",
    "\t\ttext = re.sub(r\"\\'s\", \" is\", text)\n",
    "\t\ttext = re.sub(r\"\\'ve\", \" have\", text)\n",
    "\t\ttext = re.sub(r\"can't\", \"cannot\", text)\n",
    "\t\ttext = re.sub(r\"n't\", \" not\", text)\n",
    "\t\ttext = re.sub(r\"i'm\", \"i am\", text)\n",
    "\t\ttext = re.sub(r\"i’m\", \"i am\", text)\n",
    "\t\ttext = re.sub(r\"\\'re\", \" are\", text)\n",
    "\t\ttext = re.sub(r\"\\'d\", \" would\", text)\n",
    "\t\ttext = re.sub(r\"\\'ll\", \" will\", text)\n",
    "\n",
    "\t\ttext = text.lower()\n",
    "\t\tif specialwords is not None:\n",
    "\t\t\tfor word in specialwords:\n",
    "\t\t\t\tif word in text:\n",
    "\t\t\t\t\tif numbers.match(word):\n",
    "\t\t\t\t\t\tnew_word = \"\"\n",
    "\t\t\t\t\t\tfor char in word:\n",
    "\t\t\t\t\t\t\ttmp = num_maps.get(char)\n",
    "\t\t\t\t\t\t\tif tmp is not None:\n",
    "\t\t\t\t\t\t\t\tnew_word += tmp\n",
    "\t\t\t\t\t\t\telse:\n",
    "\t\t\t\t\t\t\t\tnew_word += char\n",
    "\t\t\t\t\t\ttext = text.replace(word, new_word)\n",
    "\t\t\t\t\telse:\n",
    "\t\t\t\t\t\ttext = text.replace(word, word.capitalize())\n",
    "\n",
    "\tif remove_urls:\n",
    "\t\ttext = url_1.sub(' ', text)\n",
    "\t\ttext = url_2.sub(' ', text)\n",
    "\tif remove_ip_address:\n",
    "\t\ttext = ips.sub(' ', text)\n",
    "\tif remove_email:\n",
    "\t\ttext = email.sub(' ', text)\n",
    "\tif remove_alphas:\n",
    "\t\ttext = alphas.sub(' ', text)\n",
    "\tif remove_numbers:\n",
    "\t\ttext = numbers.sub(' ', text)\n",
    "\n",
    "\tif remove_punctuation:\n",
    "\t\tfor punc in stop_p:\n",
    "\t\t\tif punc in text:\n",
    "\t\t\t\ttext = text.replace(punc, ' ')\n",
    "\n",
    "\tif stopwords is not None:\n",
    "\t\ttext = \"\".join([char for char in text if char not in stopwords])\n",
    "\n",
    "\ttext = re.sub(r\" +\", \" \", text)\n",
    "\n",
    "\treturn text"
   ]
  },
  {
   "cell_type": "code",
   "execution_count": null,
   "metadata": {},
   "outputs": [],
   "source": [
    "def shuffle_data(corpus):\n",
    "\tif isinstance(corpus, list):\n",
    "\t\tcorpus = np.array(corpus)\n",
    "\tindices = np.arange(len(corpus))\n",
    "\tshuffled_indices = np.random.permutation(indices)\n",
    "\treturn corpus[shuffled_indices]"
   ]
  },
  {
   "cell_type": "code",
   "execution_count": null,
   "metadata": {},
   "outputs": [],
   "source": [
    "if not os.path.exists(\"data/processed/{}\".format(pm.project_name)):\n",
    "    os.makedirs(\"data/processed/{}\".format(pm.project_name))\n",
    "\n",
    "######\n",
    "## DUMP FROM ORIGINAL DATASET WITH 'SRC{\\t}TGT\\n' FORMATS\n",
    "######\n",
    "\n",
    "# sources, targets = [], []\n",
    "# with open(pm.origin_source, 'r', encoding='utf-8') as f:\n",
    "#     for line in tqdm(f):\n",
    "#         line = line.strip('\\n')\n",
    "#         try:\n",
    "#             src, tgt = line.split('\\t')\n",
    "#             src = cleaner(src,\n",
    "#                           remove_urls=True,\n",
    "#                           remove_punctuation=True,\n",
    "#                           remove_email=True,\n",
    "#                           remove_ip_address=True)\n",
    "#             tgt = cleaner(tgt,\n",
    "#                           remove_urls=True,\n",
    "#                           remove_punctuation=True,\n",
    "#                           remove_email=True,\n",
    "#                           remove_ip_address=True)\n",
    "#             if src == ' ' or src is None or tgt == ' ' or tgt is None:\n",
    "#                 continue\n",
    "                \n",
    "#             if len(list(src)) > 0 and len(list(tgt)) > 0:\n",
    "#                 sources.append(\" \".join([i for i in list(src) if i != ' ']))\n",
    "#                 targets.append(\" \".join([i for i in list(tgt) if i != ' ']))\n",
    "#         except Exception as e:\n",
    "#             print(e)\n",
    "#             continue\n",
    "            \n",
    "# shuffled_src = shuffle_data(sources)\n",
    "# shuffled_tgt = shuffle_data(targets)\n",
    "\n",
    "# src_train, src_val = shuffled_src[:int(len(shuffled_src) * 0.7)], shuffled_src[int(len(shuffled_src) * 0.7):]\n",
    "# tgt_train, tgt_val = shuffled_tgt[:int(len(shuffled_tgt) * 0.7)], shuffled_tgt[int(len(shuffled_tgt) * 0.7):]\n",
    "\n",
    "# def write_down(path, data):\n",
    "#     with open(path, 'w', encoding='utf-8') as f:\n",
    "#         f.write(\"\\n\".join(data))\n",
    "\n",
    "# paths, datas = [pm.src_train, pm.tgt_train, pm.src_test, pm.tgt_test], [src_train, tgt_train, src_val, tgt_val]\n",
    "# for path, data in zip(paths, datas):\n",
    "#     write_down(path, data)"
   ]
  },
  {
   "cell_type": "code",
   "execution_count": 3,
   "metadata": {},
   "outputs": [],
   "source": [
    "from utils_v2 import build_vocab, load_vocab, dump2record, build_dataset, LRSchedule, create_masks, en2idx, idx2en, de2idx, idx2de"
   ]
  },
  {
   "cell_type": "code",
   "execution_count": null,
   "metadata": {},
   "outputs": [],
   "source": [
    "dump2record(pm.train_record, src_train, tgt_train)\n",
    "dump2record(pm.test_record, src_val, tgt_val)"
   ]
  },
  {
   "cell_type": "code",
   "execution_count": 4,
   "metadata": {},
   "outputs": [],
   "source": [
    "train_dataset = build_dataset(mode='file', filename=pm.train_record, is_training=True)\n",
    "val_dataset = build_dataset(mode='file', filename=pm.test_record, is_training=False)"
   ]
  },
  {
   "cell_type": "markdown",
   "metadata": {},
   "source": [
    "---"
   ]
  },
  {
   "cell_type": "markdown",
   "metadata": {},
   "source": [
    "# Sub Module overview"
   ]
  },
  {
   "cell_type": "code",
   "execution_count": 5,
   "metadata": {},
   "outputs": [
    {
     "data": {
      "text/plain": [
       "(TensorShape([64, 12]), TensorShape([64, 12]))"
      ]
     },
     "execution_count": 5,
     "metadata": {},
     "output_type": "execute_result"
    }
   ],
   "source": [
    "####### overview #######\n",
    "inp, tar = next(iter(train_dataset))\n",
    "inp.shape, tar.shape"
   ]
  },
  {
   "cell_type": "code",
   "execution_count": 5,
   "metadata": {},
   "outputs": [],
   "source": [
    "from modules_v2 import positional_encoding, scaled_dot_product_attention, multihead_attention, pointwise_feedforward, \\\n",
    "EncoderBlock, DecoderBlock, Encoder, Decoder, Transformer"
   ]
  },
  {
   "cell_type": "code",
   "execution_count": 7,
   "metadata": {},
   "outputs": [
    {
     "data": {
      "image/png": "[encoded data removed]",
      "text/plain": [
       "<Figure size 864x576 with 2 Axes>"
      ]
     },
     "metadata": {
      "needs_background": "light"
     },
     "output_type": "display_data"
    }
   ],
   "source": [
    "pos_encoding = positional_encoding(50, pm.d_model, True)"
   ]
  },
  {
   "cell_type": "code",
   "execution_count": 8,
   "metadata": {},
   "outputs": [
    {
     "data": {
      "text/plain": [
       "(TensorShape([64, 1, 1, 12]),\n",
       " TensorShape([64, 1, 12, 12]),\n",
       " TensorShape([64, 1, 1, 12]))"
      ]
     },
     "execution_count": 8,
     "metadata": {},
     "output_type": "execute_result"
    }
   ],
   "source": [
    "enc_mask, combined_mask, dec_mask = create_masks(inp, tar)\n",
    "enc_mask.shape, combined_mask.shape, dec_mask.shape"
   ]
  },
  {
   "cell_type": "code",
   "execution_count": 9,
   "metadata": {},
   "outputs": [],
   "source": [
    "def print_out(q, k, v):\n",
    "    temp_out, temp_attn = scaled_dot_product_attention(q, k, v, None)\n",
    "    print ('Attention weights are:')\n",
    "    print (temp_attn)\n",
    "    print ('Output is:')\n",
    "    print (temp_out)"
   ]
  },
  {
   "cell_type": "code",
   "execution_count": 10,
   "metadata": {},
   "outputs": [
    {
     "name": "stdout",
     "output_type": "stream",
     "text": [
      "Attention weights are:\n",
      "tf.Tensor([[0. 1. 0. 0.]], shape=(1, 4), dtype=float32)\n",
      "Output is:\n",
      "tf.Tensor([[10.  0.]], shape=(1, 2), dtype=float32)\n"
     ]
    }
   ],
   "source": [
    "np.set_printoptions(suppress=True)\n",
    "\n",
    "temp_k = tf.constant([[10,0,0],\n",
    "                      [0,10,0],\n",
    "                      [0,0,10],\n",
    "                      [0,0,10]], dtype=tf.float32)\n",
    "\n",
    "temp_v = tf.constant([[   1,0],\n",
    "                      [  10,0],\n",
    "                      [ 100,5],\n",
    "                      [1000,6]], dtype=tf.float32)\n",
    "\n",
    "temp_q = tf.constant([[0, 10, 0]], dtype=tf.float32)\n",
    "print_out(temp_q, temp_k, temp_v)"
   ]
  },
  {
   "cell_type": "code",
   "execution_count": 11,
   "metadata": {},
   "outputs": [
    {
     "data": {
      "text/plain": [
       "(TensorShape([1, 50, 512]), TensorShape([1, 8, 50, 50]))"
      ]
     },
     "execution_count": 11,
     "metadata": {},
     "output_type": "execute_result"
    }
   ],
   "source": [
    "temp_mha = multihead_attention(d_model=512, num_heads=8)\n",
    "y = tf.random.uniform((1, 50, 512))\n",
    "out, attn = temp_mha(y, k=y, q=y, mask=None)\n",
    "out.shape, attn.shape"
   ]
  },
  {
   "cell_type": "code",
   "execution_count": 12,
   "metadata": {},
   "outputs": [
    {
     "data": {
      "text/plain": [
       "TensorShape([64, 50, 512])"
      ]
     },
     "execution_count": 12,
     "metadata": {},
     "output_type": "execute_result"
    }
   ],
   "source": [
    "sample_ffn = pointwise_feedforward(512, 2048)\n",
    "sample_ffn(tf.random.uniform((64, 50, 512))).shape"
   ]
  },
  {
   "cell_type": "code",
   "execution_count": 13,
   "metadata": {},
   "outputs": [
    {
     "data": {
      "text/plain": [
       "(TensorShape([64, 43, 512]), TensorShape([64, 8, 43, 43]))"
      ]
     },
     "execution_count": 13,
     "metadata": {},
     "output_type": "execute_result"
    }
   ],
   "source": [
    "sample_encoder_layer = EncoderBlock(512, 8, 2048)\n",
    "sample_encoder_layer_output, attn = sample_encoder_layer(tf.random.uniform((64, 43, 512)), False, None)\n",
    "sample_encoder_layer_output.shape, attn.shape"
   ]
  },
  {
   "cell_type": "code",
   "execution_count": 14,
   "metadata": {},
   "outputs": [
    {
     "data": {
      "text/plain": [
       "TensorShape([64, 50, 512])"
      ]
     },
     "execution_count": 14,
     "metadata": {},
     "output_type": "execute_result"
    }
   ],
   "source": [
    "sample_decoder_layer = DecoderBlock(512, 8, 2048)\n",
    "\n",
    "sample_decoder_layer_output, _, _ = sample_decoder_layer(\n",
    "    tf.random.uniform((64, 50, 512)), sample_encoder_layer_output, \n",
    "    False, None, None)\n",
    "\n",
    "sample_decoder_layer_output.shape"
   ]
  },
  {
   "cell_type": "code",
   "execution_count": 15,
   "metadata": {},
   "outputs": [
    {
     "data": {
      "text/plain": [
       "TensorShape([64, 62, 512])"
      ]
     },
     "execution_count": 15,
     "metadata": {},
     "output_type": "execute_result"
    }
   ],
   "source": [
    "sample_encoder = Encoder(num_blocks=2, d_model=512, num_heads=8, dff=2048, plot_pos_embedding=False, input_vocab_size=8500)\n",
    "sample_encoder_output, _ = sample_encoder(tf.random.uniform((64, 62)), training=False, padding_mask=None, attn_dict={})\n",
    "sample_encoder_output.shape"
   ]
  },
  {
   "cell_type": "code",
   "execution_count": 16,
   "metadata": {},
   "outputs": [
    {
     "data": {
      "text/plain": [
       "(TensorShape([64, 26, 512]), TensorShape([64, 8, 26, 26]))"
      ]
     },
     "execution_count": 16,
     "metadata": {},
     "output_type": "execute_result"
    }
   ],
   "source": [
    "sample_decoder = Decoder(num_blocks=2, d_model=512, num_heads=8, dff=2048, plot_pos_embedding=False, target_vocab_size=8000)\n",
    "output, attn = sample_decoder(tf.random.uniform((64, 26)), \n",
    "                              enc_output=sample_encoder_output, \n",
    "                              training=False, look_ahead_mask=None, \n",
    "                              padding_mask=None,\n",
    "                              attn_dict={})\n",
    "output.shape, attn['decoder_layer2_block'].shape"
   ]
  },
  {
   "cell_type": "code",
   "execution_count": 17,
   "metadata": {},
   "outputs": [
    {
     "data": {
      "text/plain": [
       "TensorShape([64, 26, 8000])"
      ]
     },
     "execution_count": 17,
     "metadata": {},
     "output_type": "execute_result"
    }
   ],
   "source": [
    "sample_transformer = Transformer(num_blocks=2, d_model=512, num_heads=8, dff=2048, input_vocab_size=8500, target_vocab_size=8000, plot_pos_embedding=False, rate=pm.dropout_rate)\n",
    "\n",
    "temp_input = tf.random.uniform((64, 62))\n",
    "temp_target = tf.random.uniform((64, 26))\n",
    "\n",
    "fn_out, _ = sample_transformer(temp_input, \n",
    "                               temp_target, \n",
    "                               training=False, \n",
    "                               enc_padding_mask=None, \n",
    "                               look_ahead_mask=None,\n",
    "                               dec_padding_mask=None)\n",
    "\n",
    "fn_out.shape"
   ]
  },
  {
   "cell_type": "code",
   "execution_count": 18,
   "metadata": {},
   "outputs": [],
   "source": [
    "learning_rate = LRSchedule(pm.d_model, pm.learning_rate_warmup_steps)"
   ]
  },
  {
   "cell_type": "markdown",
   "metadata": {},
   "source": [
    "- Learning rate schedule\n",
    "$$\\Large{lrate = d_{model}^{-0.5} * min(step{\\_}num^{-0.5}, step{\\_}num * warmup{\\_}steps^{-1.5})}$$"
   ]
  },
  {
   "cell_type": "code",
   "execution_count": 19,
   "metadata": {},
   "outputs": [
    {
     "data": {
      "text/plain": [
       "Text(0.5, 0, 'Train Step')"
      ]
     },
     "execution_count": 19,
     "metadata": {},
     "output_type": "execute_result"
    },
    {
     "data": {
      "image/png": "[encoded data removed]",
      "text/plain": [
       "<Figure size 864x576 with 1 Axes>"
      ]
     },
     "metadata": {
      "needs_background": "light"
     },
     "output_type": "display_data"
    }
   ],
   "source": [
    "####### overview #######\n",
    "import matplotlib.pyplot as plt\n",
    "\n",
    "plt.figure(figsize=(12, 8))\n",
    "plt.plot(learning_rate(tf.range(40000, dtype=tf.float32)))\n",
    "plt.ylabel(\"Learning Rate\")\n",
    "plt.xlabel(\"Train Step\")"
   ]
  },
  {
   "cell_type": "markdown",
   "metadata": {},
   "source": [
    "# Training"
   ]
  },
  {
   "cell_type": "code",
   "execution_count": 6,
   "metadata": {},
   "outputs": [],
   "source": [
    "from bleu import bleu_metrics"
   ]
  },
  {
   "cell_type": "code",
   "execution_count": 7,
   "metadata": {},
   "outputs": [],
   "source": [
    "input_vocab_size = len(en2idx)\n",
    "target_vocab_size = len(de2idx)\n",
    "\n",
    "learning_rate = LRSchedule(pm.d_model, pm.learning_rate_warmup_steps)\n",
    "optimizer = tf.keras.optimizers.Adam(learning_rate, beta_1=pm.beta_1, beta_2=pm.beta_2, epsilon=pm.epsilon)"
   ]
  },
  {
   "cell_type": "code",
   "execution_count": 8,
   "metadata": {},
   "outputs": [],
   "source": [
    "### if choose label smooth you can use CategoricalCrossentopy ver.\n",
    "# loss_object = tf.keras.losses.CategoricalCrossentropy(from_logits=True, label_smoothing=1, reduction='none')\n",
    "loss_object = tf.keras.losses.SparseCategoricalCrossentropy(from_logits=True, reduction='none')\n",
    "\n",
    "def loss_function(real, pred):\n",
    "    mask = tf.math.logical_not(tf.math.equal(real, 0)) \n",
    "    real = tf.one_hot(real, depth=len(de2idx), axis=-1)\n",
    "    \n",
    "    loss_ = loss_object(real, pred)\n",
    "    \n",
    "    mask = tf.cast(mask, dtype=loss_.dtype)\n",
    "    loss_ *= mask\n",
    "    \n",
    "    return tf.reduce_mean(loss_)"
   ]
  },
  {
   "cell_type": "markdown",
   "metadata": {},
   "source": [
    "# Whole model (Encoder & Decoder)\n",
    "![](https://www.tensorflow.org/images/tutorials/transformer/transformer.png)"
   ]
  },
  {
   "cell_type": "code",
   "execution_count": 9,
   "metadata": {},
   "outputs": [],
   "source": [
    "train_loss = tf.keras.metrics.Mean(name='train_loss')\n",
    "\n",
    "model = Transformer(pm.num_block,\n",
    "                    pm.d_model,\n",
    "                    pm.num_heads,\n",
    "                    pm.dff,\n",
    "                    input_vocab_size,\n",
    "                    target_vocab_size,\n",
    "                    pm.plot_pos_embedding,\n",
    "                    pm.dropout_rate)"
   ]
  },
  {
   "cell_type": "code",
   "execution_count": 13,
   "metadata": {},
   "outputs": [],
   "source": [
    "ckpt = tf.train.Checkpoint(model=model, optimizer=optimizer)\n",
    "ckpt_manager = tf.train.CheckpointManager(ckpt, pm.ckpt_path, max_to_keep=10)\n",
    "\n",
    "if ckpt_manager.latest_checkpoint:\n",
    "    ckpt.restore(ckpt_manager.latest_checkpoint)\n",
    "    print('Latest model restored!')"
   ]
  },
  {
   "cell_type": "code",
   "execution_count": 14,
   "metadata": {},
   "outputs": [],
   "source": [
    "@tf.function\n",
    "def train_step(inp, tar):\n",
    "    tar_inp = tar[:, :-1]\n",
    "    tar_real = tar[:, 1:]\n",
    "    \n",
    "    enc_padding_mask, look_ahead_mask, dec_padding_mask = create_masks(inp, tar_inp)\n",
    "\n",
    "    with tf.GradientTape() as tape:\n",
    "        predictions, _ = model(inp,\n",
    "                               tar_inp,\n",
    "                               True,\n",
    "                               enc_padding_mask,\n",
    "                               look_ahead_mask,\n",
    "                               dec_padding_mask)\n",
    "\n",
    "        loss = loss_function(tar_real, predictions)\n",
    "        \n",
    "    gradients = tape.gradient(loss, model.trainable_variables)\n",
    "    optimizer.apply_gradients(zip(gradients, model.trainable_variables))\n",
    "    \n",
    "    train_loss(loss)\n",
    "    \n",
    "    return tf.stack(tar_real), tf.stack(tf.cast(tf.argmax(predictions, axis=-1), tf.int32))"
   ]
  },
  {
   "cell_type": "code",
   "execution_count": null,
   "metadata": {},
   "outputs": [
    {
     "name": "stdout",
     "output_type": "stream",
     "text": [
      "Epoch 1 Batch 0 Loss 4.6237\n"
     ]
    }
   ],
   "source": [
    "for epoch in range(pm.num_epochs):\n",
    "    start = time.time()\n",
    "    \n",
    "    train_loss.reset_states()\n",
    "    bleu_score, available = 0., 0\n",
    "    \n",
    "    for (batch, (inp, tar)) in enumerate(train_dataset):\n",
    "        tar_reals, predictions = train_step(inp, tar)\n",
    "        \n",
    "        preds = [[idx2de.get(idx, 1) for idx in prediction if idx not in [0, 1, 2 ,3]] for prediction in predictions.numpy()]\n",
    "        refs = [[[idx2de.get(idx, 1) for idx in tar_real if idx not in [0, 1, 2, 3]]] for tar_real in tar_reals.numpy()]\n",
    "        bleu = bleu_metrics(refs, preds, False, 3, True)\n",
    "        \n",
    "        if bleu != 0.:\n",
    "            bleu_score += bleu\n",
    "            available += 1\n",
    "        \n",
    "        if batch % pm.batch_show_every == 0:\n",
    "            print('Epoch {} Batch {} Loss {:.4f}'.format(epoch + 1, batch, train_loss.result()))\n",
    "            \n",
    "    if (epoch + 1) % pm.epoch_show_every == 0:\n",
    "        ckpt_save_path = ckpt_manager.save()\n",
    "        print('Saving checkpoint for epoch {} at {}'.format(epoch + 1, pm.ckpt_path))\n",
    "        print('Epoch {} Loss {:.4f} Bleu_score {:.4f}'.format(epoch + 1, train_loss.result(), bleu_score / available))\n",
    "        print('Time taken for 1 epoch: {} secs\\n'.format(time.time() - start))"
   ]
  },
  {
   "cell_type": "code",
   "execution_count": null,
   "metadata": {},
   "outputs": [],
   "source": [
    "import pickle\n",
    "\n",
    "if not os.path.exists(pm.eval_log_path):\n",
    "    os.makedirs(pm.eval_log_path)\n",
    "    \n",
    "pickle.dump(train_loss, open(os.path.join(pm.eval_log_path, 'train_loss.pkl'), 'wb'))"
   ]
  },
  {
   "cell_type": "markdown",
   "metadata": {},
   "source": [
    "# Evaluate & Test"
   ]
  },
  {
   "cell_type": "code",
   "execution_count": null,
   "metadata": {},
   "outputs": [],
   "source": [
    "def evaluate(inp):\n",
    "    encoder_input = tf.expand_dims(inp, axis=0)\n",
    "    \n",
    "    decoder_input = [2]\n",
    "    output = tf.expand_dims(decoder_input, axis=0)\n",
    "    \n",
    "    for i in range(pm.maxlen):\n",
    "        enc_padding_mask, look_ahead_mask, dec_padding_mask = create_masks(encoder_input, output)\n",
    "        \n",
    "        predictions, attn_weights = transformer(encoder_input,\n",
    "                                                output,\n",
    "                                                False,\n",
    "                                                enc_padding_mask,\n",
    "                                                look_ahead_mask,\n",
    "                                                dec_padding_mask,\n",
    "                                                False,\n",
    "                                                pm.dropout_rate)\n",
    "        \n",
    "        predictions = predictions[:, -1:, :]\n",
    "        predicted_id = tf.cast(tf.argmax(predictions, axis=-1), tf.int32)\n",
    "        \n",
    "        if tf.equal(predicted_id, 3):\n",
    "            return tf.squeeze(output, axis=0), att_weights\n",
    "        \n",
    "        # self regression\n",
    "        output = tf.concat([output, predicted_id], axis=-1)\n",
    "        \n",
    "    return tf.squeeze(output, axis=0), attn_weights"
   ]
  },
  {
   "cell_type": "code",
   "execution_count": null,
   "metadata": {},
   "outputs": [],
   "source": [
    "eval_log = os.path.join(pm.eval_log_path, '{}.tsv'.format(pm.project_name))\n",
    "eval_file = open(eval_log, 'w', encoding='utf-8')\n",
    "\n",
    "start = time.time()\n",
    "\n",
    "for (batch, (inp, tar)) in enumerate(val_dataset):\n",
    "    tar_real = [idx2de.get(word, 1) for word in tar.numpy() if word < len(idx2de) and word not in [0, 1, 2, 3]]\n",
    "    prediction, _ = evaluate(inp)\n",
    "\n",
    "    source = [idx2en.get(word, 1) for word in inp.numpy() if word < len(idx2en) and word not in [0, 1, 2, 3]]\n",
    "    preds = [[idx2de.get(idx, 1) for idx in prediction.numpy() if idx not in [0, 1, 2 ,3]]]\n",
    "    refs = [[tar_real]]\n",
    "    bleu = bleu_metrics(refs, preds, False, 3, True)\n",
    "\n",
    "    eval_file.write('-Source : {}\\n-Target : {}\\n-Pred : {}\\n-BLEU Score: {:.4f}\\n\\n'.format(\n",
    "        \"\".join(source), \"\".join(tar_real), \"\".join(preds[0]), bleu))"
   ]
  },
  {
   "cell_type": "code",
   "execution_count": null,
   "metadata": {},
   "outputs": [],
   "source": [
    "def test(inp):\n",
    "    start_token = [2]\n",
    "    end_token = [3]\n",
    "    \n",
    "    inp = start_token + inp + end_token\n",
    "    encoder_input = tf.expand_dims(inp, axis=0)\n",
    "    \n",
    "    decoder_input = [2]\n",
    "    output = tf.expand_dims(decoder_input, axis=0)\n",
    "    \n",
    "    for i in range(pm.maxlen):\n",
    "        enc_padding_mask, look_ahead_mask, dec_padding_mask = create_masks(encoder_input, output)\n",
    "        \n",
    "        predictions, attn_weights = transformer(encoder_input,\n",
    "                                                output,\n",
    "                                                False,\n",
    "                                                enc_padding_mask,\n",
    "                                                look_ahead_mask,\n",
    "                                                dec_padding_mask,\n",
    "                                                False,\n",
    "                                                pm.dropout_rate)\n",
    "        \n",
    "        predictions = predictions[:, -1:, :]\n",
    "        predicted_id = tf.cast(tf.argmax(predictions, axis=-1), tf.int32)\n",
    "        \n",
    "        if tf.equal(predicted_id, 3):\n",
    "            return tf.squeeze(output, axis=0), att_weights\n",
    "        \n",
    "        # self regression\n",
    "        output = tf.concat([output, predicted_id], axis=-1)\n",
    "        \n",
    "    return tf.squeeze(output, axis=0), attn_weights"
   ]
  },
  {
   "cell_type": "code",
   "execution_count": null,
   "metadata": {},
   "outputs": [],
   "source": [
    "def translate_interface(sentence, plot=''):\n",
    "    result, attention_weights = evaluate(sentence)\n",
    "\n",
    "    original_sentence = \"\".join([idx2en.get(word, 1) for word in sentence.numpy()])\n",
    "    predicted_sentence = \"\".join([idx2de.get(word, 1) for word in result.numpy() if word < len(idx2de) and word not in [0, 1, 2, 3]])\n",
    "\n",
    "    print('Input: {}'.format(original_sentence))\n",
    "    print('Predicted translation: {}'.format(predicted_sentence))\n",
    "\n",
    "    if plot:\n",
    "        plot_attention_weights(attention_weights, sentence, result, plot)"
   ]
  },
  {
   "cell_type": "code",
   "execution_count": null,
   "metadata": {},
   "outputs": [],
   "source": [
    "inp, tar = next(iter(val_dataset))\n",
    "tar = \"\".join([idx2de.get(word, 1) for word in tar.numpy()])\n",
    "\n",
    "translate_interface(inp, plot='decoder_layer6_block')\n",
    "print (\"Real translation: {}\".format(tar))"
   ]
  },
  {
   "cell_type": "code",
   "execution_count": null,
   "metadata": {},
   "outputs": [],
   "source": []
  }
 ],
 "metadata": {
  "kernelspec": {
   "display_name": "Python 3",
   "language": "python",
   "name": "python3"
  },
  "language_info": {
   "codemirror_mode": {
    "name": "ipython",
    "version": 3
   },
   "file_extension": ".py",
   "mimetype": "text/x-python",
   "name": "python",
   "nbconvert_exporter": "python",
   "pygments_lexer": "ipython3",
   "version": "3.7.1"
  }
 },
 "nbformat": 4,
 "nbformat_minor": 2
}
